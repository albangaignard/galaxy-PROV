{
 "cells": [
  {
   "cell_type": "code",
   "execution_count": 110,
   "metadata": {},
   "outputs": [],
   "source": [
    "from rdflib import ConjunctiveGraph, URIRef, Literal, BNode\n",
    "import requests\n",
    "\n",
    "from IPython.display import display, Markdown\n",
    "\n",
    "from rdflib import Namespace\n",
    "from rdflib.namespace import DCTERMS, OWL, RDF, RDFS, XMLNS, XSD\n",
    "\n",
    "PROV = Namespace(\"http://www.w3.org/ns/prov#\")\n",
    "\n",
    "api_key = \"your_API_key\"\n",
    "galaxy_url = \"https://usegalaxy.fr\"\n",
    "http_params = {'key': api_key}\n",
    "galaxy_hist_url = galaxy_url + \"/api/histories\""
   ]
  },
  {
   "cell_type": "code",
   "execution_count": 120,
   "metadata": {},
   "outputs": [],
   "source": [
    "def list_histories(url, key):\n",
    "    \"\"\"\n",
    "    \"\"\"\n",
    "    res = []\n",
    "    r = requests.get(url + \"/api/histories\", params={'key': str(key)})\n",
    "    histories = r.json()\n",
    "    if r.json().get('err_msg'):\n",
    "        print(r.json()['err_msg'])\n",
    "        return res\n",
    "        \n",
    "    for h in histories:\n",
    "        res.append((h['id'], h['name']))\n",
    "    return res\n",
    "\n",
    "\n",
    "def print_histories(url, key):\n",
    "    \"\"\"\n",
    "    \"\"\"\n",
    "    histories = list_histories(url, key)\n",
    "    md = \"\"\"\n",
    "| ID | NAME |\n",
    "| ------ | ------ |\n",
    "\"\"\"\n",
    "    for h in histories:\n",
    "        md += '| ' + h[0] + ' | ' + h[1] + ' |\\n'\n",
    "        \n",
    "    display(Markdown(md))\n",
    "    \n",
    "\n",
    "def gen_prov_graph(url, key, hist_id):\n",
    "    \"\"\"\n",
    "    \"\"\"\n",
    "    G = ConjunctiveGraph()\n",
    "    \n",
    "    res = []\n",
    "    \n",
    "    # get all histories \n",
    "    r = requests.get(url + \"/api/histories\", params={'key': str(key)})\n",
    "    if r.json().get('err_msg'):\n",
    "        print(r.json()['err_msg'])\n",
    "        return G\n",
    "    \n",
    "    histories = r.json()\n",
    "    for h in histories:\n",
    "        if hist_id in h['id']:\n",
    "            content_url = url + \"/api/histories/\" + hist_id + \"/contents\"\n",
    "            \n",
    "            # get the content of the history\n",
    "            r = requests.get(content_url, params={'key': str(key)})\n",
    "            content = r.json()\n",
    "            \n",
    "            for c in content:\n",
    "                \n",
    "                content_id = c[\"id\"]\n",
    "                # get provenance from each history cell\n",
    "                r = requests.get(content_url + \"/\" + content_id + \"/provenance\", params={'key': str(key)})\n",
    "                activity = r.json()\n",
    "                job_id = activity['job_id']\n",
    "                tool_id = activity['tool_id'].strip(\" \")\n",
    "                params = activity['parameters']\n",
    "                \n",
    "                ############\n",
    "                # generating the activity\n",
    "                G.add( (URIRef(job_id), RDF.type, PROV.Activity) )\n",
    "                G.add( (URIRef(job_id), PROV.wasAssociatedWith, Literal(tool_id)) )\n",
    "                \n",
    "                r = requests.get(url + \"/api/jobs/\" + hist_id, params={'key': str(key)})\n",
    "                job = r.json()\n",
    "                #print(job)\n",
    "                G.add( (URIRef(job_id), PROV.startedAtTime, Literal(job[\"create_time\"], datatype=XSD.dateTime)) )\n",
    "                G.add( (URIRef(job_id), PROV.endedAtTime, Literal(job[\"update_time\"], datatype=XSD.dateTime)) )\n",
    "                \n",
    "                ############\n",
    "                # generating the output\n",
    "                G.add( (URIRef(content_id), RDF.type, PROV.Entity) )\n",
    "                G.add( (URIRef(content_id), PROV.wasGeneratedBy, URIRef(job_id)) )\n",
    "                G.add( (URIRef(content_id), PROV.wasAttributedTo, Literal(tool_id)) )\n",
    "                \n",
    "                if c.get(\"name\"):\n",
    "                    G.add( (URIRef(content_id), RDFS.label, Literal(c[\"name\"])) )\n",
    "                if c.get(\"download_url\"):\n",
    "                    G.add( (URIRef(content_id), RDFS.label, Literal(c[\"download_url\"])) )\n",
    "                    \n",
    "                ############\n",
    "                # generating the inputs\n",
    "                for k in params.keys():\n",
    "                    if \"input\" in k:\n",
    "                        if isinstance(params[k], dict) and params[k].get('id'):\n",
    "                            input_id = params[k]['id']\n",
    "                            r = requests.get(url + \"/api/datasets/\" + input_id, params={'key': str(key)})\n",
    "                            in_dataset = r.json()\n",
    "                            \n",
    "                            G.add( (URIRef(input_id), RDF.type, PROV.Entity) )\n",
    "                            if in_dataset.get(\"name\"):\n",
    "                                G.add( (URIRef(input_id), RDFS.label, Literal(in_dataset[\"name\"])) )\n",
    "                            if in_dataset.get(\"download_url\"):\n",
    "                                G.add( (URIRef(input_id), RDFS.label, Literal(in_dataset[\"download_url\"])) )\n",
    "                            \n",
    "                            G.add( (URIRef(job_id), PROV.used, URIRef(input_id)) )\n",
    "                            G.add( (URIRef(content_id), PROV.wasDerivedFrom, URIRef(input_id)) )\n",
    "                    \n",
    "            return G\n",
    "            \n",
    "    return None"
   ]
  },
  {
   "cell_type": "code",
   "execution_count": null,
   "metadata": {},
   "outputs": [],
   "source": []
  },
  {
   "cell_type": "code",
   "execution_count": null,
   "metadata": {
    "scrolled": true
   },
   "outputs": [],
   "source": []
  },
  {
   "cell_type": "code",
   "execution_count": 121,
   "metadata": {},
   "outputs": [
    {
     "name": "stdout",
     "output_type": "stream",
     "text": [
      "Provided API key is not valid.\n"
     ]
    },
    {
     "data": {
      "text/markdown": [
       "\n",
       "| ID | NAME |\n",
       "| ------ | ------ |\n"
      ],
      "text/plain": [
       "<IPython.core.display.Markdown object>"
      ]
     },
     "metadata": {},
     "output_type": "display_data"
    }
   ],
   "source": [
    "print_histories(galaxy_url, api_key)"
   ]
  },
  {
   "cell_type": "code",
   "execution_count": 122,
   "metadata": {},
   "outputs": [
    {
     "name": "stdout",
     "output_type": "stream",
     "text": [
      "Provided API key is not valid.\n",
      "@prefix rdf: <http://www.w3.org/1999/02/22-rdf-syntax-ns#> .\n",
      "@prefix rdfs: <http://www.w3.org/2000/01/rdf-schema#> .\n",
      "@prefix xml: <http://www.w3.org/XML/1998/namespace> .\n",
      "@prefix xsd: <http://www.w3.org/2001/XMLSchema#> .\n",
      "\n",
      "\n"
     ]
    }
   ],
   "source": [
    "graph = gen_prov_graph(galaxy_url, api_key, '58ba5445bfcae9c6')\n",
    "print(graph.serialize(format=\"turtle\").decode())"
   ]
  },
  {
   "cell_type": "code",
   "execution_count": null,
   "metadata": {},
   "outputs": [],
   "source": []
  }
 ],
 "metadata": {
  "kernelspec": {
   "display_name": "Python 3",
   "language": "python",
   "name": "python3"
  },
  "language_info": {
   "codemirror_mode": {
    "name": "ipython",
    "version": 3
   },
   "file_extension": ".py",
   "mimetype": "text/x-python",
   "name": "python",
   "nbconvert_exporter": "python",
   "pygments_lexer": "ipython3",
   "version": "3.7.3"
  }
 },
 "nbformat": 4,
 "nbformat_minor": 2
}
